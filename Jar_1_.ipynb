{
  "nbformat": 4,
  "nbformat_minor": 0,
  "metadata": {
    "colab": {
      "provenance": [],
      "mount_file_id": "1s5YOWvumXATUSbTs7JQxsyuRWakEBEa2",
      "authorship_tag": "ABX9TyMVebAszN0vgY6uj4sVU5PD",
      "include_colab_link": true
    },
    "kernelspec": {
      "name": "python3",
      "display_name": "Python 3"
    },
    "language_info": {
      "name": "python"
    }
  },
  "cells": [
    {
      "cell_type": "markdown",
      "metadata": {
        "id": "view-in-github",
        "colab_type": "text"
      },
      "source": [
        "<a href=\"https://colab.research.google.com/github/Monisha200222/monisha-portfolio/blob/main/Jar_1_.ipynb\" target=\"_parent\"><img src=\"https://colab.research.google.com/assets/colab-badge.svg\" alt=\"Open In Colab\"/></a>"
      ]
    },
    {
      "cell_type": "code",
      "execution_count": null,
      "metadata": {
        "id": "mWt4sbQsRidk"
      },
      "outputs": [],
      "source": [
        "import numpy as np\n",
        "import pandas as pd\n",
        "import seaborn as sns\n",
        "import matplotlib.pyplot as plt\n",
        "from statsmodels.tsa.statespace.sarimax import SARIMAX\n",
        "from sklearn.metrics import mean_squared_error\n",
        "from sklearn.linear_model import LinearRegression\n",
        "from sklearn.model_selection import train_test_split\n",
        "from statsmodels.tsa.seasonal import seasonal_decompose\n",
        "from statsmodels.tsa.stattools import adfuller\n",
        "from statsmodels.tsa.arima.model import ARIMA\n",
        "import warnings\n",
        "warnings.filterwarnings('ignore')"
      ]
    },
    {
      "cell_type": "code",
      "source": [
        "sales_df = pd.read_csv(\"/Walmart Sales.csv\")"
      ],
      "metadata": {
        "id": "pLM7kGb8RxTr"
      },
      "execution_count": 8,
      "outputs": []
    },
    {
      "cell_type": "code",
      "source": [
        "print(sales_df.columns)"
      ],
      "metadata": {
        "colab": {
          "base_uri": "https://localhost:8080/"
        },
        "id": "sFWKYHa1UZml",
        "outputId": "1121aa3c-1c2f-48e5-db37-2bd73d08e515"
      },
      "execution_count": 15,
      "outputs": [
        {
          "output_type": "stream",
          "name": "stdout",
          "text": [
            "Index(['Invoice ID', 'Branch', 'City', 'Customer type', 'Gender',\n",
            "       'Product line', 'Unit price', 'Quantity', 'Date', 'Time', 'Payment',\n",
            "       'Rating'],\n",
            "      dtype='object')\n"
          ]
        }
      ]
    },
    {
      "cell_type": "code",
      "source": [
        "import pandas as pd\n",
        "\n",
        "try:\n",
        "    city_branch_performance = sales_df.groupby(['City', 'Branch']).agg({'Quantity': 'sum', 'Unit price': 'sum'})\n",
        "    print(\"\\nPerformance of sales and revenue at the city and branch level:\")\n",
        "    print(city_branch_performance)\n",
        "except KeyError as e:\n",
        "    print(\"KeyError occurred. Column names in the DataFrame:\")\n",
        "    print([col for col in sales_df.columns])\n",
        "    print(\"Error message:\", e)\n"
      ],
      "metadata": {
        "colab": {
          "base_uri": "https://localhost:8080/"
        },
        "id": "CLBbwqd-UeqE",
        "outputId": "007db967-40c9-4edc-bddd-5b78399a504c"
      },
      "execution_count": 36,
      "outputs": [
        {
          "output_type": "stream",
          "name": "stdout",
          "text": [
            "\n",
            "Performance of sales and revenue at the city and branch level:\n",
            "                  Quantity  Unit price\n",
            "City      Branch                      \n",
            "Mandalay  A            637     6349.11\n",
            "          B            664     6623.73\n",
            "          C            519     5506.04\n",
            "Naypyitaw A            648     5953.55\n",
            "          B            604     6298.64\n",
            "          C            579     6315.57\n",
            "Yangon    A            598     6342.88\n",
            "          B            631     6329.25\n",
            "          C            630     5953.36\n"
          ]
        }
      ]
    },
    {
      "cell_type": "code",
      "source": [
        "average_price_per_branch = sales_df.groupby(['City', 'Branch'])['Unit price'].mean()\n",
        "print(average_price_per_branch)"
      ],
      "metadata": {
        "colab": {
          "base_uri": "https://localhost:8080/"
        },
        "id": "8VuEmftIZLF2",
        "outputId": "d107f9ca-7d20-403a-f440-61e8b9684ca5"
      },
      "execution_count": 24,
      "outputs": [
        {
          "output_type": "stream",
          "name": "stdout",
          "text": [
            "City       Branch\n",
            "Mandalay   A         53.353866\n",
            "           B         56.133305\n",
            "           C         57.958316\n",
            "Naypyitaw  A         54.123182\n",
            "           B         57.785688\n",
            "           C         57.941009\n",
            "Yangon     A         55.639298\n",
            "           B         56.011062\n",
            "           C         52.684602\n",
            "Name: Unit price, dtype: float64\n"
          ]
        }
      ]
    },
    {
      "cell_type": "code",
      "source": [
        "sales_df['Date'] = pd.to_datetime(sales_df['Date'])\n",
        "april_2019_data = sales_df[sales_df['Date'].dt.month == 4]\n",
        "performance_by_criteria = april_2019_data.groupby(['Product line', 'Gender', 'Payment']).agg({'Quantity': 'sum', 'Unit price': 'mean'})\n",
        "total_sales_april_2019 = april_2019_data['Quantity'].sum()\n",
        "total_revenue_april_2019 = april_2019_data['Unit price'].sum()\n",
        "focus_areas = performance_by_criteria[performance_by_criteria['Quantity'] > (total_sales_april_2019 / len(performance_by_criteria))]\n",
        "print(\"Performance of sales and revenue in April 2019 across Product line, Gender, and Payment Method:\")\n",
        "print(performance_by_criteria)\n",
        "print(\"\\nFocus areas to improve sales in April 2019:\")\n",
        "print(focus_areas)\n"
      ],
      "metadata": {
        "colab": {
          "base_uri": "https://localhost:8080/"
        },
        "id": "z7IiSzWAcVpf",
        "outputId": "8c203588-5cc1-4ed2-8a9d-4c35deb61a74"
      },
      "execution_count": 32,
      "outputs": [
        {
          "output_type": "stream",
          "name": "stdout",
          "text": [
            "Performance of sales and revenue in April 2019 across Product line, Gender, and Payment Method:\n",
            "Empty DataFrame\n",
            "Columns: [Quantity, Unit price]\n",
            "Index: []\n",
            "\n",
            "Focus areas to improve sales in April 2019:\n",
            "Empty DataFrame\n",
            "Columns: [Quantity, Unit price]\n",
            "Index: []\n"
          ]
        },
        {
          "output_type": "stream",
          "name": "stderr",
          "text": [
            "<ipython-input-32-7669e7c812c3>:15: RuntimeWarning: invalid value encountered in scalar divide\n",
            "  focus_areas = performance_by_criteria[performance_by_criteria['Quantity'] > (total_sales_april_2019 / len(performance_by_criteria))]\n"
          ]
        }
      ]
    },
    {
      "cell_type": "code",
      "source": [
        "# Group by Product line, Gender, and Payment Method\n",
        "performance_by_criteria = april_2019_data.groupby(['Product line', 'Gender', 'Payment']).agg({'Quantity': 'sum', 'Unit price': 'sum'})\n",
        "print(performance_by_criteria)"
      ],
      "metadata": {
        "colab": {
          "base_uri": "https://localhost:8080/"
        },
        "id": "8fBVHE9Lcr_9",
        "outputId": "838e696f-b14f-4734-fa49-d157c498e58c"
      },
      "execution_count": 34,
      "outputs": [
        {
          "output_type": "stream",
          "name": "stdout",
          "text": [
            "Empty DataFrame\n",
            "Columns: [Quantity, Unit price]\n",
            "Index: []\n"
          ]
        }
      ]
    }
  ]
}